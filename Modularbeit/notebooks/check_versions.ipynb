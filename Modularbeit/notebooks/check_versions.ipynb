{
 "cells": [
  {
   "cell_type": "code",
   "execution_count": null,
   "metadata": {},
   "outputs": [
    {
     "name": "stdout",
     "output_type": "stream",
     "text": [
      "Python: 3.12.7 | packaged by Anaconda, Inc. | (main, Oct  4 2024, 08:22:19) [Clang 14.0.6 ]\n",
      "pandas: 2.2.2\n",
      "numpy: 1.26.4\n",
      "matplotlib: 3.9.2\n",
      "scipy: 1.13.1\n",
      "sklearn: 1.5.1\n",
      "NLTK: 3.9.1\n"
     ]
    }
   ],
   "source": [
    "import sys\n",
    "import pandas as pd\n",
    "import numpy as np\n",
    "import matplotlib as plt\n",
    "import scipy as sp \n",
    "import sklearn as sl \n",
    "import nltk as nl \n",
    "import logging\n",
    "\n",
    "\n",
    " \n",
    "#get the Python3 version\n",
    "print(\"Python: \" + str(sys.version))\n",
    "# Get pandas version\n",
    "print(\"pandas: \"+ str(pd.__version__))\n",
    "# numpy version\n",
    "print(\"numpy: \"+ str(np.__version__))\n",
    "# matplotlib\n",
    "print(\"matplotlib: \" + str(plt.__version__))\n",
    "# scipy\n",
    "print(\"scipy: \" + str(sp.__version__))\n",
    "# sklearn \n",
    "print(\"sklearn: \" + str(sl.__version__))\n",
    "#nltk\n",
    "print(\"NLTK: \" + str(nl.__version__))"
   ]
  }
 ],
 "metadata": {
  "kernelspec": {
   "display_name": "AI_in_python",
   "language": "python",
   "name": "python3"
  },
  "language_info": {
   "codemirror_mode": {
    "name": "ipython",
    "version": 3
   },
   "file_extension": ".py",
   "mimetype": "text/x-python",
   "name": "python",
   "nbconvert_exporter": "python",
   "pygments_lexer": "ipython3",
   "version": "3.12.7"
  }
 },
 "nbformat": 4,
 "nbformat_minor": 2
}
